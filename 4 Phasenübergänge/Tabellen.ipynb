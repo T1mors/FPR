{
 "cells": [
  {
   "cell_type": "code",
   "execution_count": 2,
   "metadata": {},
   "outputs": [],
   "source": [
    "import pandas as pd\n",
    "import numpy as np\n",
    "import codecs"
   ]
  },
  {
   "cell_type": "markdown",
   "metadata": {},
   "source": [
    "Modul 2 Eigenschaften der Graphen"
   ]
  },
  {
   "cell_type": "code",
   "execution_count": 11,
   "metadata": {},
   "outputs": [
    {
     "name": "stdout",
     "output_type": "stream",
     "text": [
      "Length: 11095\n"
     ]
    }
   ],
   "source": [
    "# https://stackoverflow.com/questions/12367801/finding-all-cycles-in-undirected-graphs/16558622\n",
    "# graph d\n",
    "# graph = [[1,5],[5,2],[5,3],[3,7],[2,6],[6,7],[6,8],[6,9],[9,4],[4,3]] #\n",
    "\n",
    "# graph e\n",
    "# graph = [[1, 2],[1, 5],[2, 9],[2, 5],[2, 6],[3, 7],[3, 5],[3, 4],[4, 9],[5, 10],[5, 9],[6, 10],[6, 9],[6, 8],[6, 7]] \n",
    "\n",
    "# graph f # 5 Minuten\n",
    "graph = [[1, 7],[1, 6],[1, 4],[1, 9],[1, 2],[1, 5],[2, 4],[2, 9],[2, 5],[2, 6],[3, 6],[3, 8],[3, 9],[3, 10],[3, 7],[3, 5],[3, 4],[4, 5],[4, 9],[5, 7],[5, 8],[5, 10],[5, 9],[6, 10],[6, 9],[6, 8],[6, 7],[7, 10],[7, 9],[8, 10]]\n",
    "cycles = []\n",
    "\n",
    "def main():\n",
    "    global graph\n",
    "    global cycles\n",
    "    for edge in graph:\n",
    "        for node in edge:\n",
    "            findNewCycles([node])\n",
    "    print(f\"Length: {len(cycles)}\")\n",
    "    for cy in cycles:\n",
    "        path = [str(node) for node in cy]\n",
    "        s = \",\".join(path)\n",
    "        # print(s)\n",
    "\n",
    "def findNewCycles(path):\n",
    "    start_node = path[0]\n",
    "    next_node= None\n",
    "    sub = []\n",
    "\n",
    "    #visit each edge and each node of each edge\n",
    "    for edge in graph:\n",
    "        node1, node2 = edge\n",
    "        if start_node in edge:\n",
    "                if node1 == start_node:\n",
    "                    next_node = node2\n",
    "                else:\n",
    "                    next_node = node1\n",
    "                if not visited(next_node, path):\n",
    "                        # neighbor node not on path yet\n",
    "                        sub = [next_node]\n",
    "                        sub.extend(path)\n",
    "                        # explore extended path\n",
    "                        findNewCycles(sub);\n",
    "                elif len(path) > 2  and next_node == path[-1]:\n",
    "                        # cycle found\n",
    "                        p = rotate_to_smallest(path);\n",
    "                        inv = invert(p)\n",
    "                        if isNew(p) and isNew(inv):\n",
    "                            cycles.append(p)\n",
    "\n",
    "def invert(path):\n",
    "    return rotate_to_smallest(path[::-1])\n",
    "\n",
    "#  rotate cycle path such that it begins with the smallest node\n",
    "def rotate_to_smallest(path):\n",
    "    n = path.index(min(path))\n",
    "    return path[n:]+path[:n]\n",
    "\n",
    "def isNew(path):\n",
    "    return not path in cycles\n",
    "\n",
    "def visited(node, path):\n",
    "    return node in path\n",
    "\n",
    "main()"
   ]
  },
  {
   "cell_type": "code",
   "execution_count": 10,
   "metadata": {},
   "outputs": [
    {
     "name": "stdout",
     "output_type": "stream",
     "text": [
      "\\begin{table}[H]\n",
      "\\centering\n",
      "\\caption{Eigenschaften der Graphen aus Abb. \\ref{fig:Mod2_N10_verschiedene_c}. Kardinalität der größten zusammenhängenden Komponente $|V_{\\mathrm{zsmh.}^{\\mathrm{max}}}|$, Anzahl der Zyklen $num_{\\mathrm{Zyklus}}$ \\cite{misc:StackOverflowZyklen} und erfolgreiches Finden einer vollständigen Lösung.}\n",
      "\\label{tab:Mod2_N10_verschiedene_c_Eigenschaften}\n",
      "\\begin{tabular}{rrl}\n",
      "\\toprule\n",
      " $|V_{\\mathrm{zsmh.}}^{\\mathrm{max}}|$ &  $num_{\\mathrm{Zyklus}}$ & \\makecell{Vollständige\\\\Lösung} \\\\\n",
      "\\midrule\n",
      "                                     3 &                        0 &                      \\checkmark \\\\\n",
      "                                     6 &                        0 &                      \\checkmark \\\\\n",
      "                                     8 &                        0 &                      \\checkmark \\\\\n",
      "                                     9 &                        3 &                      \\checkmark \\\\\n",
      "                                    10 &                       33 &                      \\checkmark \\\\\n",
      "                                    10 &                    11095 &                          \\xmark \\\\\n",
      "\\bottomrule\n",
      "\\end{tabular}\n",
      "\\end{table}\n",
      "\n"
     ]
    },
    {
     "name": "stderr",
     "output_type": "stream",
     "text": [
      "/tmp/ipykernel_6053/3730617121.py:12: FutureWarning: In future versions `DataFrame.to_latex` is expected to utilise the base implementation of `Styler.to_latex` for formatting and rendering. The arguments signature may therefore change. It is recommended instead to use `DataFrame.style.to_latex` which also contains additional functionality.\n",
      "  print(df.to_latex(index=False, escape=False, label=\"tab:Mod2_N10_verschiedene_c_Eigenschaften\", caption=caption, position=\"H\"))\n",
      "/tmp/ipykernel_6053/3730617121.py:14: FutureWarning: In future versions `DataFrame.to_latex` is expected to utilise the base implementation of `Styler.to_latex` for formatting and rendering. The arguments signature may therefore change. It is recommended instead to use `DataFrame.style.to_latex` which also contains additional functionality.\n",
      "  file.write(df.to_latex(index=False, escape=False, label=\"tab:Mod2_N10_verschiedene_c_Eigenschaften\", caption=caption, na_rep=\"\", position=\"H\"))\n"
     ]
    }
   ],
   "source": [
    "c = [0.6, 1, 1.4, 2, 3, 6]\n",
    "V_zsmh_max = [3, 6, 8, 9, 10, 10]\n",
    "num_zyklus = [0, 0, 0, 3, 33, 11095]\n",
    "vollst_solution = [\"\\checkmark\", \"\\checkmark\",\"\\checkmark\",\"\\checkmark\",\"\\checkmark\", r\"\\xmark\"]\n",
    "\n",
    "\n",
    "data_dict = {\"$|V_{\\mathrm{zsmh.}}^{\\mathrm{max}}|$\": V_zsmh_max, \"$num_{\\mathrm{Zyklus}}$\": num_zyklus, \"\\makecell{Vollständige\\\\\\\\Lösung}\": vollst_solution}\n",
    "df = pd.DataFrame.from_dict(data = data_dict)\n",
    "# df.style.set_properties({'text-align': 'right'})\n",
    "\n",
    "caption = r\"Eigenschaften der Graphen aus Abb. \\ref{fig:Mod2_N10_verschiedene_c}. Kardinalität der größten zusammenhängenden Komponente $|V_{\\mathrm{zsmh.}^{\\mathrm{max}}}|$, Anzahl der Zyklen $num_{\\mathrm{Zyklus}}$ \\cite{misc:StackOverflowZyklen} und erfolgreiches Finden einer vollständigen Lösung.\"\n",
    "print(df.to_latex(index=False, escape=False, label=\"tab:Mod2_N10_verschiedene_c_Eigenschaften\", caption=caption, position=\"H\"))\n",
    "with codecs.open(\"Tabellen/Mod2_Eigenschaften_N10.txt\", \"wb\", \"utf-8\") as file:\n",
    "    file.write(df.to_latex(index=False, escape=False, label=\"tab:Mod2_N10_verschiedene_c_Eigenschaften\", caption=caption, na_rep=\"\", position=\"H\"))"
   ]
  },
  {
   "cell_type": "markdown",
   "metadata": {},
   "source": [
    "Laufzeit"
   ]
  },
  {
   "cell_type": "code",
   "execution_count": 11,
   "metadata": {},
   "outputs": [
    {
     "name": "stdout",
     "output_type": "stream",
     "text": [
      "\\begin{table}[H]\n",
      "\\centering\n",
      "\\caption{Laufzeit des Simplex-Algorithmus für verschiedene Systemgrößen $N$ bei der Konnektivität $c=4$ und $10^3$ Realisierungen.}\n",
      "\\label{tab:Mod2_Laufzeit_Daten}\n",
      "\\begin{tabular}{rr}\n",
      "\\toprule\n",
      " $N$ &  $t$ / s \\\\\n",
      "\\midrule\n",
      "  10 &    0.126 \\\\\n",
      "  20 &    0.263 \\\\\n",
      "  40 &    0.618 \\\\\n",
      "  60 &    1.162 \\\\\n",
      "  80 &    1.881 \\\\\n",
      " 120 &    3.937 \\\\\n",
      " 160 &    6.851 \\\\\n",
      " 240 &   15.627 \\\\\n",
      " 320 &   28.888 \\\\\n",
      " 460 &   63.871 \\\\\n",
      " 640 &  133.718 \\\\\n",
      "\\bottomrule\n",
      "\\end{tabular}\n",
      "\\end{table}\n",
      "\n"
     ]
    },
    {
     "name": "stderr",
     "output_type": "stream",
     "text": [
      "/tmp/ipykernel_6053/3482859120.py:9: FutureWarning: In future versions `DataFrame.to_latex` is expected to utilise the base implementation of `Styler.to_latex` for formatting and rendering. The arguments signature may therefore change. It is recommended instead to use `DataFrame.style.to_latex` which also contains additional functionality.\n",
      "  print(df.to_latex(index=False, escape=False, label=\"tab:Mod2_Laufzeit_Daten\", caption=caption, na_rep=\"\", position=\"H\"))\n",
      "/tmp/ipykernel_6053/3482859120.py:11: FutureWarning: In future versions `DataFrame.to_latex` is expected to utilise the base implementation of `Styler.to_latex` for formatting and rendering. The arguments signature may therefore change. It is recommended instead to use `DataFrame.style.to_latex` which also contains additional functionality.\n",
      "  file.write(df.to_latex(index=False, escape=False, label=\"tab:Mod2_Laufzeit_Daten\", caption=caption, na_rep=\"\", position=\"H\"))\n"
     ]
    }
   ],
   "source": [
    "N = np.array([10, 20, 40, 60, 80, 120, 160, 240, 320, 460, 640])\n",
    "time = np.array([0.126, 0.263, 0.618, 1.162, 1.881, 3.937, 6.851, 15.627, 28.888, 60+3.871, 120+13.718])\n",
    "\n",
    "data_dict = {\"$N$\": N, \"$t$ / s\": time}\n",
    "df = pd.DataFrame.from_dict(data = data_dict)\n",
    "# df.style.set_properties({'text-align': 'right'})\n",
    "\n",
    "caption = r\"Laufzeit des Simplex-Algorithmus für verschiedene Systemgrößen $N$ bei der Konnektivität $c=4$ und $10^3$ Realisierungen.\"\n",
    "print(df.to_latex(index=False, escape=False, label=\"tab:Mod2_Laufzeit_Daten\", caption=caption, na_rep=\"\", position=\"H\"))\n",
    "with codecs.open(\"Tabellen/Mod2_Laufzeit_Daten.txt\", \"wb\", \"utf-8\") as file:\n",
    "    file.write(df.to_latex(index=False, escape=False, label=\"tab:Mod2_Laufzeit_Daten\", caption=caption, na_rep=\"\", position=\"H\"))"
   ]
  },
  {
   "cell_type": "code",
   "execution_count": null,
   "metadata": {},
   "outputs": [],
   "source": []
  }
 ],
 "metadata": {
  "kernelspec": {
   "display_name": "Python 3.8.5 ('base')",
   "language": "python",
   "name": "python3"
  },
  "language_info": {
   "codemirror_mode": {
    "name": "ipython",
    "version": 3
   },
   "file_extension": ".py",
   "mimetype": "text/x-python",
   "name": "python",
   "nbconvert_exporter": "python",
   "pygments_lexer": "ipython3",
   "version": "3.8.5"
  },
  "orig_nbformat": 4,
  "vscode": {
   "interpreter": {
    "hash": "166dc6659d4d81a6b408d2ea737eabe1c92607925fbed88ae7c17ff43dffc163"
   }
  }
 },
 "nbformat": 4,
 "nbformat_minor": 2
}
